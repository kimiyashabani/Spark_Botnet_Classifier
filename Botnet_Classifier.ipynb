{
 "cells": [
  {
   "cell_type": "code",
   "execution_count": 1,
   "metadata": {
    "ExecuteTime": {
     "end_time": "2024-05-19T15:45:16.557120Z",
     "start_time": "2024-05-19T15:45:11.932786Z"
    }
   },
   "outputs": [
    {
     "name": "stdout",
     "output_type": "stream",
     "text": [
      "24/05/19 17:45:14 WARN Utils: Your hostname, vm resolves to a loopback address: 127.0.1.1; using 10.0.2.15 instead (on interface enp0s3)\n",
      "24/05/19 17:45:14 WARN Utils: Set SPARK_LOCAL_IP if you need to bind to another address\n"
     ]
    },
    {
     "name": "stderr",
     "output_type": "stream",
     "text": [
      "Setting default log level to \"WARN\".\n",
      "To adjust logging level use sc.setLogLevel(newLevel). For SparkR, use setLogLevel(newLevel).\n"
     ]
    },
    {
     "name": "stdout",
     "output_type": "stream",
     "text": [
      "24/05/19 17:45:15 WARN NativeCodeLoader: Unable to load native-hadoop library for your platform... using builtin-java classes where applicable\n",
      "24/05/19 17:45:16 WARN Utils: Service 'SparkUI' could not bind on port 4040. Attempting port 4041.\n"
     ]
    }
   ],
   "source": [
    "#Team member : Kimiya Shabani, Quentin Mathieu, Christopher Steuer\n",
    "\n",
    "import findspark\n",
    " \n",
    "findspark.init()\n",
    " \n",
    "from pyspark import SparkContext,SparkConf\n",
    "import random\n",
    "import math\n",
    "from operator import add\n",
    "import numpy as np\n",
    "import numpy\n",
    " \n",
    "conf = SparkConf().setAppName(\"assignment_botnet\")\n",
    "sc = SparkContext(\"local[*]\",\"assignment_botnet\")"
   ]
  },
  {
   "cell_type": "markdown",
   "metadata": {},
   "source": [
    "### Function: `readFile`\n",
    "\n",
    "#### Description\n",
    "The `readFile` function reads a dataset from a specified file and transforms it into an RDD (Resilient Distributed Dataset) for further processing with Apache Spark. The dataset is expected to have 12 columns, where the first 11 columns are features (X) and the 12th column is the label (Y).\n",
    "\n",
    "#### Arguments\n",
    "- `path` (string): The path to the dataset file.\n",
    "- `cols` (int, optional): The number of columns to read from the dataset file. Defaults to `np.inf`, which indicates reading all columns.\n",
    "\n",
    "#### Returns\n",
    "- `data_rdd` (RDD): An RDD containing the data from the specified file. Each record in the RDD is a tuple `(X, y)`, where:\n",
    "  - `X` (list of floats): An array containing the 11 features of an example.\n",
    "  - `y` (int): The label of the example, which is the 12th column (0 for normal traffic, 1 for botnet)."
   ]
  },
  {
   "cell_type": "code",
   "execution_count": 2,
   "metadata": {
    "ExecuteTime": {
     "end_time": "2024-05-19T15:45:16.566855Z",
     "start_time": "2024-05-19T15:45:16.560485Z"
    }
   },
   "outputs": [],
   "source": [
    "def readFile(path,cols=np.inf):\n",
    "    rdd = sc.textFile(path)\n",
    "    data_rdd = rdd.map(lambda line: line.split(','))\n",
    "    data_rdd = data_rdd.map(lambda parts:(list(map(float, parts[:-1])),int(parts[-1])))\n",
    "    return data_rdd"
   ]
  },
  {
   "cell_type": "markdown",
   "metadata": {},
   "source": [
    "## Function: `normalize`\n",
    "\n",
    "### Description\n",
    "The `normalize` function is designed to normalize the features of a dataset represented as a Resilient Distributed Dataset (RDD) in Apache Spark. Normalization is a preprocessing step commonly used in machine learning to scale numeric features to a standard range, typically between 0 and 1 or with a mean of 0 and a standard deviation of 1. This process ensures that each feature contributes equally to the analysis, preventing features with larger scales from dominating the learning algorithm.\n",
    "\n",
    "### Arguments\n",
    "- `rdd` (RDD): The RDD representing the dataset to be normalized.\n",
    "\n",
    "### Returns\n",
    "- `normalized_rdd` (RDD): An RDD containing the normalized data. Each record in the RDD is a tuple `(X_prime, y)`, where:\n",
    "  - `X_prime` (list of floats): An array containing the normalized feature values.\n",
    "  - `y` (int): The label (if applicable) associated with the example.\n",
    "\n",
    "### Steps\n",
    "1. **Extract Features and Calculate Aggregates:**\n",
    "   - The function starts by extracting the features from the RDD's first record. It then defines an inner function `extract_features` to process each data point. This function calculates the sum of feature values, the sum of squared feature values, and the count for each feature across all records in the RDD.\n",
    "   - These aggregates are computed using a `flatMap` transformation followed by a `reduceByKey` operation.\n",
    "\n",
    "2. **Calculate Mean and Standard Deviation:**\n",
    "   - After aggregating the feature values, the function computes the mean and standard deviation for each feature column. This is done by mapping over the aggregated RDD and applying formulas to calculate mean and standard deviation.\n",
    "\n",
    "3. **Normalize the Data:**\n",
    "   - Once the mean and standard deviation are calculated for each feature, the function normalizes each feature value in the dataset. This is achieved by subtracting the mean and dividing by the standard deviation for each feature, element-wise.\n",
    "   - The normalization is applied using a custom function `normalize_row` to each row of the RDD. The normalized RDD is then returned as the result."
   ]
  },
  {
   "cell_type": "code",
   "execution_count": 3,
   "metadata": {
    "ExecuteTime": {
     "end_time": "2024-05-19T15:45:16.601633Z",
     "start_time": "2024-05-19T15:45:16.569171Z"
    }
   },
   "outputs": [],
   "source": [
    "def normalize(rdd):\n",
    "    X = rdd.first()\n",
    "    \n",
    "    def extract_features(data):\n",
    "        X, y = data\n",
    "        features_with_counts_and_squares = []\n",
    "        for i in range(len(X)):\n",
    "            # Append the feature index, feature value, square of the feature value, and count\n",
    "            feature_tuple = (i, (X[i], X[i]**2, 1))\n",
    "            features_with_counts_and_squares.append(feature_tuple)\n",
    "        return features_with_counts_and_squares\n",
    "    \n",
    "    feature_sums = rdd.flatMap(extract_features)\n",
    "    # Reduce by key to sum the values, squared values, and counts for each feature across all records\n",
    "    feature_aggregates = feature_sums.reduceByKey(lambda a, b: (a[0] + b[0], a[1] + b[1], a[2] + b[2]))\n",
    " \n",
    "    # Calculate the mean and standard deviation for each column\n",
    "    feature_stats = feature_aggregates.map(lambda x: (x[0], \n",
    "                                                      (x[1][0] / x[1][2],  # Mean\n",
    "                                                       math.sqrt((x[1][1] / x[1][2]) - (x[1][0] / x[1][2])**2)  # Std Dev\n",
    "                                                      )))\n",
    "    \n",
    "    sorted_feature_stats = feature_stats.sortByKey()\n",
    "    mean_elements= sorted_feature_stats.map(lambda x: x[1][0]).take(11)\n",
    "    std_elements= sorted_feature_stats.map(lambda x: x[1][1]).take(11)\n",
    "    \n",
    "    def normalize_row(row):\n",
    "        # Extract X from the row\n",
    "        X_row, y_row = row\n",
    "        # Calculate x_prime for each feature in the row\n",
    "        x_prime_row = [(X_row[i] - mean_elements[i]) / std_elements[i] for i in range(len(X_row))]\n",
    "        # Return the normalized row\n",
    "        return (x_prime_row, y_row)\n",
    "    # Apply the normalize_row function to each row of the RDD\n",
    "    normalized_rdd = rdd.map(normalize_row)\n",
    "    \n",
    "    return normalized_rdd"
   ]
  },
  {
   "cell_type": "markdown",
   "metadata": {},
   "source": [
    "### Function: `check_normalized`\n",
    "\n",
    "#### Description\n",
    "The `check_normalized` function is used to verify if the normalization of an RDD has been performed correctly. It calculates the mean and standard deviation for each feature in the dataset.\n",
    "\n",
    "#### Arguments\n",
    "- `rdd` (RDD): An RDD containing the normalized data. Each record in the RDD is a tuple `(X, y)`, where:\n",
    "  - `X` (list of floats): An array containing the features of an example.\n",
    "  - `y` (int): The label of the example.\n",
    "\n",
    "#### Returns\n",
    "- `feature_stats` (RDD): An RDD where each element is a tuple `(feature_index, (mean, std_dev))`, representing the mean and standard deviation of each feature."
   ]
  },
  {
   "cell_type": "code",
   "execution_count": 4,
   "metadata": {
    "ExecuteTime": {
     "end_time": "2024-05-19T15:45:16.617075Z",
     "start_time": "2024-05-19T15:45:16.608406Z"
    }
   },
   "outputs": [],
   "source": [
    "# Helper function to see if the normalization worked correctly\n",
    "def check_normalized(rdd):\n",
    "    def extract_features(data):\n",
    "        X, y = data\n",
    "        features_with_counts_and_squares = []\n",
    "        for i in range(len(X)):\n",
    "            # Append the feature index, feature value, square of the feature value, and count\n",
    "            feature_tuple = (i, (X[i], X[i]**2, 1))\n",
    "            features_with_counts_and_squares.append(feature_tuple)\n",
    "        return features_with_counts_and_squares\n",
    "    feature_sums = rdd.flatMap(extract_features)\n",
    "    # Reduce by key to sum the values, squared values, and counts for each feature across all records\n",
    "    feature_aggregates = feature_sums.reduceByKey(lambda a, b: (a[0] + b[0], a[1] + b[1], a[2] + b[2]))\n",
    "    # Calculate the mean and standard deviation for each column\n",
    "    feature_stats = feature_aggregates.map(lambda x: (x[0], \n",
    "                                                      (x[1][0] / x[1][2],  # Mean\n",
    "                                                       math.sqrt((x[1][1] / x[1][2]) - (x[1][0] / x[1][2])**2)  # Std Dev\n",
    "                                                      )))\n",
    "    \n",
    "    return feature_stats"
   ]
  },
  {
   "cell_type": "markdown",
   "metadata": {},
   "source": [
    "### Function: `train`\n",
    "\n",
    "#### Description\n",
    "The `train` function implements the Gradient Descent algorithm to optimize the weights of a logistic regression model using an RDD containing the dataset.\n",
    "\n",
    "#### Arguments\n",
    "- `rdd` (RDD): An RDD containing the training data. Each record in the RDD is a tuple `(X, y)`, where:\n",
    "  - `X` (list of floats): An array containing the features of an example.\n",
    "  - `y` (int): The label of the example.\n",
    "- `iterations` (int): The number of iterations to run the gradient descent algorithm.\n",
    "- `learning_rate` (float): The learning rate for the gradient descent algorithm.\n",
    "\n",
    "#### Returns\n",
    "- `w` (list of floats): The optimized weights (including bias) after training."
   ]
  },
  {
   "cell_type": "code",
   "execution_count": 5,
   "metadata": {
    "ExecuteTime": {
     "end_time": "2024-05-19T15:45:17.235219Z",
     "start_time": "2024-05-19T15:45:17.227458Z"
    }
   },
   "outputs": [],
   "source": [
    "def train(rdd,iterations,learning_rate):\n",
    "    #num_features = len(rdd.first()[0])\n",
    "    #print(num_features)\n",
    "    X = rdd.first()\n",
    " \n",
    "    m = len(X) #number of examples or rows in dataset\n",
    "    w =[]\n",
    "    # w includes b\n",
    "    num_columns = len(X[0])  # define the number of columns (and weights) to process\n",
    "    print (\"num_cols:\",num_columns)\n",
    "    for i in range(num_columns): \n",
    "        w.append(random.uniform(0.0, 1.0))\n",
    "    # init b with random\n",
    "    w.append(random.uniform(0.0, 1.0))\n",
    "    for i in range(iterations):\n",
    "        # Compute cost every 10 iterations for example            \n",
    "        cost = rdd.map(lambda x_y: fcost(x_y[1], get_y_hat(x_y[0], w))).mean()            \n",
    "        print(\"Iteration {}: Cost = {}\".format(i, cost)) \n",
    "        # Compute gradients for each data point        \n",
    "        gradients = rdd.map(lambda x_y: get_derivatives(x_y, w))                  \n",
    "        # Sum the gradients across all data points        \n",
    "        summed_gradients = gradients.reduce(lambda a, b: np.array(a) + np.array(b))                  \n",
    "        # Average the gradients        \n",
    "        mean_gradients = summed_gradients / rdd.count()         \n",
    "        # Update the weights       \n",
    "        w = update_ws(w, mean_gradients, learning_rate)   \n",
    "    return w"
   ]
  },
  {
   "cell_type": "code",
   "execution_count": 6,
   "metadata": {
    "ExecuteTime": {
     "end_time": "2024-05-19T15:45:17.887976Z",
     "start_time": "2024-05-19T15:45:17.882276Z"
    }
   },
   "outputs": [],
   "source": [
    "def get_y_hat (x,w):\n",
    "    #print (x.shape, w.shape)\n",
    "    return sigmoid(get_dot_xw(x,w))\n",
    "\n",
    "def get_dot_xw(x,w):\n",
    "    \n",
    "    r = 0.\n",
    "    if (len(x)>len(w)):\n",
    "        print (\"getdot\",len(x),len(w))\n",
    "    for i in range(len(x)):\n",
    "        r += float(x[i])*float(w[i])\n",
    "    return r + w[-1]\n",
    "\n",
    "def sigmoid(x):\n",
    "    try:\n",
    "        return 1. / (1.+math.exp(-x))\n",
    "    except OverflowError:\n",
    "        return 0.0\n"
   ]
  },
  {
   "cell_type": "code",
   "execution_count": 7,
   "metadata": {
    "ExecuteTime": {
     "end_time": "2024-05-19T15:45:18.668566Z",
     "start_time": "2024-05-19T15:45:18.661209Z"
    }
   },
   "outputs": [],
   "source": [
    "# Cost function   \n",
    "def fcost(y, y_hat):\n",
    "    #print (\"cost:\",y,y_hat)\n",
    "    # compute loss/cost for one element \"y_hat\" and one label \"y\" \n",
    "    epsilon=0.00000001\n",
    "    if y == 1:\n",
    "        return -numpy.log(y_hat if y_hat > 0. else epsilon)\n",
    "    else:\n",
    "        return -numpy.log (1-y_hat if 1-y_hat >0. else epsilon)\n",
    "                 "
   ]
  },
  {
   "cell_type": "code",
   "execution_count": 8,
   "metadata": {
    "ExecuteTime": {
     "end_time": "2024-05-19T15:45:19.560011Z",
     "start_time": "2024-05-19T15:45:19.553524Z"
    }
   },
   "outputs": [],
   "source": [
    "# Update model weights using current weights, their derivatives and the learning rate \n",
    "def update_ws(w,dw,lr):\n",
    "    w_ = numpy.array(w, dtype=float)\n",
    "    dw_ = numpy.array(dw, dtype=float)\n",
    "    #print (\"shapes w y dw\",w.shape,dw.shape)\n",
    "    tmp = w_ - lr*dw_\n",
    "    neww = tmp    \n",
    "    return neww\n",
    "\n",
    "# Get derivatives of Cost function for each element of the dataset\n",
    "def get_derivatives(x_y, w): \n",
    "    x = numpy.array(x_y[0], dtype=float)\n",
    "    y= x_y[1]\n",
    "    diff_y = get_y_hat(x,w) - y\n",
    "    # Vectorized version\n",
    "    # res = list(x*diff_y)+ [w[-1]]\n",
    "    res=[]\n",
    "    # dw\n",
    "    for x_i in x:\n",
    "        res.append(x_i*diff_y)\n",
    "    # db\n",
    "    res.append (w[-1])\n",
    "    \n",
    "    return res"
   ]
  },
  {
   "cell_type": "code",
   "execution_count": 9,
   "metadata": {
    "ExecuteTime": {
     "end_time": "2024-05-19T15:45:20.340740Z",
     "start_time": "2024-05-19T15:45:20.334263Z"
    }
   },
   "outputs": [],
   "source": [
    "def predict (x,w):\n",
    "    threshold=0.5\n",
    "    y_hat=get_y_hat(x,w)\n",
    "    return 1 if y_hat > threshold else 0"
   ]
  },
  {
   "cell_type": "markdown",
   "metadata": {},
   "source": [
    "### Function: `accuracy`\n",
    "\n",
    "#### Description\n",
    "The `accuracy` function calculates the accuracy of the logistic regression model on a given dataset.\n",
    "\n",
    "#### Arguments\n",
    "- `rdd_Xy` (RDD): An RDD containing the data examples. Each record of the RDD is a tuple `(X, y)`, where:\n",
    "  - `X` (list of floats): An array containing the features of an example.\n",
    "  - `y` (int): The label of the example.\n",
    "- `wf` (list of floats): The weights of the trained logistic regression model, including the bias term.\n",
    "\n",
    "#### Returns\n",
    "- `accuracy` (float): The accuracy of the model as a percentage."
   ]
  },
  {
   "cell_type": "code",
   "execution_count": 10,
   "metadata": {
    "ExecuteTime": {
     "end_time": "2024-05-19T15:45:21.813456Z",
     "start_time": "2024-05-19T15:45:21.808680Z"
    }
   },
   "outputs": [],
   "source": [
    "def accuracy(rdd_Xy, wf): \n",
    "    # Compute the number of correct predictions   \n",
    "    correct_predictions = rdd_Xy.map(lambda x_y: (x_y[1], predict(x_y[0], wf))).map(lambda y_yhat: 1 if y_yhat[0] == y_yhat[1] else 0).reduce(lambda a, b: a + b)         \n",
    "    # Total number of examples    \n",
    "    total_examples = rdd_Xy.count()\n",
    "    # Calculate accuracy    \n",
    "    accuracy = (correct_predictions / total_examples) * 100.0\n",
    "    \n",
    "    return accuracy"
   ]
  },
  {
   "cell_type": "code",
   "execution_count": 11,
   "metadata": {
    "ExecuteTime": {
     "end_time": "2024-05-19T15:50:09.637774Z",
     "start_time": "2024-05-19T15:45:22.650857Z"
    }
   },
   "outputs": [
    {
     "name": "stderr",
     "output_type": "stream",
     "text": [
      "                                                                                \r"
     ]
    },
    {
     "name": "stdout",
     "output_type": "stream",
     "text": [
      "num_cols: 11\n"
     ]
    },
    {
     "name": "stderr",
     "output_type": "stream",
     "text": [
      "                                                                                \r"
     ]
    },
    {
     "name": "stdout",
     "output_type": "stream",
     "text": [
      "Iteration 0: Cost = 1.2389913149688778\n"
     ]
    },
    {
     "name": "stderr",
     "output_type": "stream",
     "text": [
      "                                                                                \r"
     ]
    },
    {
     "name": "stdout",
     "output_type": "stream",
     "text": [
      "Iteration 1: Cost = 0.6693335106045136\n"
     ]
    },
    {
     "name": "stderr",
     "output_type": "stream",
     "text": [
      "                                                                                \r"
     ]
    },
    {
     "name": "stdout",
     "output_type": "stream",
     "text": [
      "Iteration 2: Cost = 0.43706321163454875\n"
     ]
    },
    {
     "name": "stderr",
     "output_type": "stream",
     "text": [
      "                                                                                \r"
     ]
    },
    {
     "name": "stdout",
     "output_type": "stream",
     "text": [
      "Iteration 3: Cost = 0.3400098640029475\n"
     ]
    },
    {
     "name": "stderr",
     "output_type": "stream",
     "text": [
      "                                                                                \r"
     ]
    },
    {
     "name": "stdout",
     "output_type": "stream",
     "text": [
      "Iteration 4: Cost = 0.29223349933453646\n"
     ]
    },
    {
     "name": "stderr",
     "output_type": "stream",
     "text": [
      "                                                                                \r"
     ]
    },
    {
     "name": "stdout",
     "output_type": "stream",
     "text": [
      "Iteration 5: Cost = 0.26433559610174295\n"
     ]
    },
    {
     "name": "stderr",
     "output_type": "stream",
     "text": [
      "                                                                                \r"
     ]
    },
    {
     "name": "stdout",
     "output_type": "stream",
     "text": [
      "Iteration 6: Cost = 0.24624115091108556\n"
     ]
    },
    {
     "name": "stderr",
     "output_type": "stream",
     "text": [
      "                                                                                \r"
     ]
    },
    {
     "name": "stdout",
     "output_type": "stream",
     "text": [
      "Iteration 7: Cost = 0.23343939442318404\n"
     ]
    },
    {
     "name": "stderr",
     "output_type": "stream",
     "text": [
      "                                                                                \r"
     ]
    },
    {
     "name": "stdout",
     "output_type": "stream",
     "text": [
      "Iteration 8: Cost = 0.22392562398678767\n"
     ]
    },
    {
     "name": "stderr",
     "output_type": "stream",
     "text": [
      "                                                                                \r"
     ]
    },
    {
     "name": "stdout",
     "output_type": "stream",
     "text": [
      "Iteration 9: Cost = 0.21654028559125194\n"
     ]
    },
    {
     "name": "stderr",
     "output_type": "stream",
     "text": [
      "                                                                                \r"
     ]
    },
    {
     "name": "stdout",
     "output_type": "stream",
     "text": [
      "Iteration 10: Cost = 0.21064620239247253\n"
     ]
    },
    {
     "name": "stderr",
     "output_type": "stream",
     "text": [
      "                                                                                \r"
     ]
    },
    {
     "name": "stdout",
     "output_type": "stream",
     "text": [
      "Iteration 11: Cost = 0.2058235518077369\n"
     ]
    },
    {
     "name": "stderr",
     "output_type": "stream",
     "text": [
      "                                                                                \r"
     ]
    },
    {
     "name": "stdout",
     "output_type": "stream",
     "text": [
      "Iteration 12: Cost = 0.20180558751766944\n"
     ]
    },
    {
     "name": "stderr",
     "output_type": "stream",
     "text": [
      "                                                                                \r"
     ]
    },
    {
     "name": "stdout",
     "output_type": "stream",
     "text": [
      "Iteration 13: Cost = 0.19840368545212583\n"
     ]
    },
    {
     "name": "stderr",
     "output_type": "stream",
     "text": [
      "                                                                                \r"
     ]
    },
    {
     "name": "stdout",
     "output_type": "stream",
     "text": [
      "Iteration 14: Cost = 0.19548610920902726\n"
     ]
    },
    {
     "name": "stderr",
     "output_type": "stream",
     "text": [
      "                                                                                \r"
     ]
    },
    {
     "name": "stdout",
     "output_type": "stream",
     "text": [
      "Iteration 15: Cost = 0.19295523745142126\n"
     ]
    },
    {
     "name": "stderr",
     "output_type": "stream",
     "text": [
      "                                                                                \r"
     ]
    },
    {
     "name": "stdout",
     "output_type": "stream",
     "text": [
      "Iteration 16: Cost = 0.1907385752508582\n"
     ]
    },
    {
     "name": "stderr",
     "output_type": "stream",
     "text": [
      "                                                                                \r"
     ]
    },
    {
     "name": "stdout",
     "output_type": "stream",
     "text": [
      "Iteration 17: Cost = 0.18878045879600328\n"
     ]
    },
    {
     "name": "stderr",
     "output_type": "stream",
     "text": [
      "                                                                                \r"
     ]
    },
    {
     "name": "stdout",
     "output_type": "stream",
     "text": [
      "Iteration 18: Cost = 0.18703779784697322\n"
     ]
    },
    {
     "name": "stderr",
     "output_type": "stream",
     "text": [
      "                                                                                \r"
     ]
    },
    {
     "name": "stdout",
     "output_type": "stream",
     "text": [
      "Iteration 19: Cost = 0.185476548250417\n"
     ]
    },
    {
     "name": "stderr",
     "output_type": "stream",
     "text": [
      "[Stage 85:=========================>                                (4 + 4) / 9]\r"
     ]
    },
    {
     "name": "stdout",
     "output_type": "stream",
     "text": [
      "Final weights of the model:\n",
      "[-2.88471637e-01 -1.12138907e+00 -2.91473955e-01 -1.72622388e-01\n",
      " -1.56915138e+00  1.25534054e+00  3.54995828e-01 -1.27612317e+00\n",
      "  7.18830625e-01  8.87751835e-01  6.90318924e-01  5.40856836e-08]\n",
      " \n",
      "Accuracy of the model: 93.3857 %\n",
      " \n"
     ]
    },
    {
     "name": "stderr",
     "output_type": "stream",
     "text": [
      "\r",
      "[Stage 85:=============================================>            (7 + 2) / 9]\r",
      "\r",
      "                                                                                \r"
     ]
    }
   ],
   "source": [
    "# Execution parameters\n",
    "nIter = 20\n",
    "learningRate = 1.5\n",
    "path = \"/home/administrador/botnet_tot_syn_l.csv\"\n",
    " \n",
    "\n",
    "# read text_file in dataPath\n",
    "X_y = readFile(path)\n",
    " \n",
    "# Normalize\n",
    "X_y = normalize(X_y)\n",
    " \n",
    "# Train \n",
    "ws = train(X_y, nIter, learningRate)\n",
    "\n",
    "# Calculate the Accuracy\n",
    "acc = accuracy(X_y, ws)\n",
    "\n",
    "# Results\n",
    " \n",
    "print(\"Final weights of the model:\")\n",
    "print(ws)\n",
    "print(\" \")\n",
    "print(\"Accuracy of the model:\",acc,\"%\")\n",
    "print(\" \")"
   ]
  },
  {
   "cell_type": "code",
   "execution_count": null,
   "metadata": {},
   "outputs": [],
   "source": []
  }
 ],
 "metadata": {
  "kernelspec": {
   "display_name": "Python 3 (ipykernel)",
   "language": "python",
   "name": "python3"
  },
  "language_info": {
   "codemirror_mode": {
    "name": "ipython",
    "version": 3
   },
   "file_extension": ".py",
   "mimetype": "text/x-python",
   "name": "python",
   "nbconvert_exporter": "python",
   "pygments_lexer": "ipython3",
   "version": "3.7.16"
  },
  "toc": {
   "base_numbering": 1,
   "nav_menu": {},
   "number_sections": true,
   "sideBar": true,
   "skip_h1_title": false,
   "title_cell": "Table of Contents",
   "title_sidebar": "Contents",
   "toc_cell": false,
   "toc_position": {},
   "toc_section_display": true,
   "toc_window_display": false
  }
 },
 "nbformat": 4,
 "nbformat_minor": 4
}
